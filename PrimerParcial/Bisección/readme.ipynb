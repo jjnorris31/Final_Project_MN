{
 "cells": [
  {
   "cell_type": "markdown",
   "metadata": {
    "collapsed": true
   },
   "source": [
    "Método de Bisección\n",
    "\n",
    "También conocido como método de corte binario, de partición de intervalos o de Bolzano, es un tipo de búsqueda incremental en el que el intervalo se divide siempre a la mitad. Si la función cambia de signo sobre un intervalo, se evalúa el valor de la función en el punto medio. La posición de la raíz se determina situándola en el punto medio del subintervalo, dentro del cual ocurre un cambio de signo.\n",
    "\n",
    "Este proceso de repite hasta obtener la mejor aproximación:\n",
    "\n",
    "x_{r} = \\frac{x_{0} + x_{1}}{2}x \n",
    "r\n",
    "​\t = \n",
    "2\n",
    "x \n",
    "0\n",
    "​\t +x \n",
    "1\n",
    "​\t \n",
    "​\t \n",
    "\n",
    "Para usar este método se tiene que cumplir como condición inicial que:\n",
    "\n",
    "f(x_{r})f(x_{1}) < 0 f(x \n",
    "r\n",
    "​\t )f(x \n",
    "1\n",
    "​\t )<0\n",
    "\n",
    "Para actualizar el valor de x_{r}x \n",
    "r\n",
    "​\t  tenemos que:\n",
    "\n",
    "Si:\n",
    "\n",
    "f(x_{r})f(x_{1}) < 0f(x \n",
    "r\n",
    "​\t )f(x \n",
    "1\n",
    "​\t )<0\n",
    "\n",
    "entonces:\n",
    "\n",
    "x_{1} = x_{r}x \n",
    "1\n",
    "​\t =x \n",
    "r\n",
    "​\t \n",
    "\n",
    "Si:\n",
    "\n",
    "f(x_{0})f(x_{1}) > 0f(x \n",
    "0\n",
    "​\t )f(x \n",
    "1\n",
    "​\t )>0\n",
    "\n",
    "entonces:\n",
    "\n",
    "x_{0} = x_{r}x \n",
    "0\n",
    "​\t =x \n",
    "r\n",
    "​\t \n",
    "\n",
    "Este método puede ser muy tardado por lo que más adelante se presentará el método de la falsa posición."
   ]
  }
 ],
 "metadata": {
  "kernelspec": {
   "display_name": "Python 2",
   "language": "python",
   "name": "python2"
  },
  "language_info": {
   "codemirror_mode": {
    "name": "ipython",
    "version": 2
   },
   "file_extension": ".py",
   "mimetype": "text/x-python",
   "name": "python",
   "nbconvert_exporter": "python",
   "pygments_lexer": "ipython2",
   "version": "2.7.6"
  }
 },
 "nbformat": 4,
 "nbformat_minor": 0
}
